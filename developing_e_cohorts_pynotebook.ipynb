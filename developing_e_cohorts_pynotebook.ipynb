{
 "cells": [
  {
   "cell_type": "code",
   "execution_count": null,
   "id": "66e8f144",
   "metadata": {},
   "outputs": [],
   "source": [
    "#### ECHILD Course Day 2: Developing e-Cohorts #### \n",
    "\n",
    "#### Part 1 ####\n",
    "\n",
    "# pandas is a very helpful package for working with big datasets.\n",
    "# Aside from providing helpful syntax, it is very efficient memory-wise.\n",
    "# !pip install pandas\n",
    "# !pip install os\n",
    "# !pip install matplotlib\n"
   ]
  },
  {
   "cell_type": "code",
   "execution_count": 1,
   "id": "57cd8e57-0436-4eaf-ab2c-24889e31599d",
   "metadata": {},
   "outputs": [],
   "source": [
    "import pandas as pd\n",
    "import os "
   ]
  },
  {
   "cell_type": "code",
   "execution_count": null,
   "id": "6340f19b-598a-4df0-88ed-82d443204fad",
   "metadata": {},
   "outputs": [],
   "source": [
    "# Set your working directory and load data\n",
    "\n",
    "os.chdir(\"your_directory/\")\n",
    "\n",
    "hes = pd.read_csv(\"HES.csv\")\n",
    "ks1 = pd.read_csv(\"KS1.csv\")\n",
    "spine = pd.read_csv(\"spine.csv\")\n",
    "\n",
    "# Altenratively, you can download directly:\n",
    "# hes <- read_csv(\"https://rdr.ucl.ac.uk/ndownloader/files/44972194\")\n",
    "# ks1 <- read_csv(\"https://rdr.ucl.ac.uk/ndownloader/files/44972182\")\n",
    "# spine <- read_csv(\"https://rdr.ucl.ac.uk/ndownloader/files/44972191\")\n"
   ]
  },
  {
   "cell_type": "code",
   "execution_count": 4,
   "id": "352abde3-64b1-4a52-8e63-18a9b0d00f1f",
   "metadata": {},
   "outputs": [
    {
     "data": {
      "text/html": [
       "<div>\n",
       "<style scoped>\n",
       "    .dataframe tbody tr th:only-of-type {\n",
       "        vertical-align: middle;\n",
       "    }\n",
       "\n",
       "    .dataframe tbody tr th {\n",
       "        vertical-align: top;\n",
       "    }\n",
       "\n",
       "    .dataframe thead th {\n",
       "        text-align: right;\n",
       "    }\n",
       "</style>\n",
       "<table border=\"1\" class=\"dataframe\">\n",
       "  <thead>\n",
       "    <tr style=\"text-align: right;\">\n",
       "      <th></th>\n",
       "      <th>epikey</th>\n",
       "      <th>epitype</th>\n",
       "      <th>epiorder</th>\n",
       "      <th>admimeth</th>\n",
       "      <th>startage</th>\n",
       "      <th>sex</th>\n",
       "    </tr>\n",
       "  </thead>\n",
       "  <tbody>\n",
       "    <tr>\n",
       "      <th>count</th>\n",
       "      <td>5.000000e+05</td>\n",
       "      <td>500000.0</td>\n",
       "      <td>500000.0</td>\n",
       "      <td>500000.0</td>\n",
       "      <td>500000.0</td>\n",
       "      <td>500000.000000</td>\n",
       "    </tr>\n",
       "    <tr>\n",
       "      <th>mean</th>\n",
       "      <td>1.500980e+11</td>\n",
       "      <td>3.0</td>\n",
       "      <td>1.0</td>\n",
       "      <td>82.0</td>\n",
       "      <td>7001.0</td>\n",
       "      <td>1.500464</td>\n",
       "    </tr>\n",
       "    <tr>\n",
       "      <th>std</th>\n",
       "      <td>2.889684e+10</td>\n",
       "      <td>0.0</td>\n",
       "      <td>0.0</td>\n",
       "      <td>0.0</td>\n",
       "      <td>0.0</td>\n",
       "      <td>0.500000</td>\n",
       "    </tr>\n",
       "    <tr>\n",
       "      <th>min</th>\n",
       "      <td>1.000000e+11</td>\n",
       "      <td>3.0</td>\n",
       "      <td>1.0</td>\n",
       "      <td>82.0</td>\n",
       "      <td>7001.0</td>\n",
       "      <td>1.000000</td>\n",
       "    </tr>\n",
       "    <tr>\n",
       "      <th>25%</th>\n",
       "      <td>1.250595e+11</td>\n",
       "      <td>3.0</td>\n",
       "      <td>1.0</td>\n",
       "      <td>82.0</td>\n",
       "      <td>7001.0</td>\n",
       "      <td>1.000000</td>\n",
       "    </tr>\n",
       "    <tr>\n",
       "      <th>50%</th>\n",
       "      <td>1.501090e+11</td>\n",
       "      <td>3.0</td>\n",
       "      <td>1.0</td>\n",
       "      <td>82.0</td>\n",
       "      <td>7001.0</td>\n",
       "      <td>2.000000</td>\n",
       "    </tr>\n",
       "    <tr>\n",
       "      <th>75%</th>\n",
       "      <td>1.752093e+11</td>\n",
       "      <td>3.0</td>\n",
       "      <td>1.0</td>\n",
       "      <td>82.0</td>\n",
       "      <td>7001.0</td>\n",
       "      <td>2.000000</td>\n",
       "    </tr>\n",
       "    <tr>\n",
       "      <th>max</th>\n",
       "      <td>1.999999e+11</td>\n",
       "      <td>3.0</td>\n",
       "      <td>1.0</td>\n",
       "      <td>82.0</td>\n",
       "      <td>7001.0</td>\n",
       "      <td>2.000000</td>\n",
       "    </tr>\n",
       "  </tbody>\n",
       "</table>\n",
       "</div>"
      ],
      "text/plain": [
       "             epikey   epitype  epiorder  admimeth  startage            sex\n",
       "count  5.000000e+05  500000.0  500000.0  500000.0  500000.0  500000.000000\n",
       "mean   1.500980e+11       3.0       1.0      82.0    7001.0       1.500464\n",
       "std    2.889684e+10       0.0       0.0       0.0       0.0       0.500000\n",
       "min    1.000000e+11       3.0       1.0      82.0    7001.0       1.000000\n",
       "25%    1.250595e+11       3.0       1.0      82.0    7001.0       1.000000\n",
       "50%    1.501090e+11       3.0       1.0      82.0    7001.0       2.000000\n",
       "75%    1.752093e+11       3.0       1.0      82.0    7001.0       2.000000\n",
       "max    1.999999e+11       3.0       1.0      82.0    7001.0       2.000000"
      ]
     },
     "execution_count": 4,
     "metadata": {},
     "output_type": "execute_result"
    }
   ],
   "source": [
    "hes.describe()"
   ]
  },
  {
   "cell_type": "code",
   "execution_count": null,
   "id": "1f881c25-c6ec-4dbd-a803-bb6f13262de3",
   "metadata": {},
   "outputs": [],
   "source": [
    "# We are defining a birth cohort using HES data, so we'll focus there first.\n",
    "# 1) What birth years have we provided you?\n",
    "hes['epistart'] = pd.to_datetime(hes['epistart'])\n",
    "hes['epistart_cyear'] = hes['epistart'].dt.year\n",
    "birth_years = hes['epistart_cyear'].value_counts(dropna=False)\n",
    "birth_years\n"
   ]
  },
  {
   "cell_type": "code",
   "execution_count": null,
   "id": "97fc61ca-4f60-44e6-95a2-93bea7c6eb79",
   "metadata": {},
   "outputs": [],
   "source": [
    "# 2) What is the start age for people in this dataset?\n",
    "start_age = hes['startage'].value_counts(dropna=False)\n",
    "start_age"
   ]
  },
  {
   "cell_type": "code",
   "execution_count": null,
   "id": "3cfc0a9e-2ea2-4db0-bd61-730e5f2ef482",
   "metadata": {},
   "outputs": [],
   "source": [
    "# 3) What epitype did we provide you? What does this mean?\n",
    "epitype_counts = hes['epitype'].value_counts(dropna=False)\n",
    "epitype_counts"
   ]
  },
  {
   "cell_type": "code",
   "execution_count": null,
   "id": "0876c5f2-f902-4c68-b50f-4c7f3c365757",
   "metadata": {},
   "outputs": [],
   "source": [
    "# 4) What admimeth did we provide you? What does this mean?\n",
    "admimeth_counts = hes['admimeth'].value_counts(dropna=False)\n",
    "admimeth_counts"
   ]
  },
  {
   "cell_type": "code",
   "execution_count": null,
   "id": "f976bf15-fb2e-4cca-9a91-cabae1b83df3",
   "metadata": {},
   "outputs": [],
   "source": [
    "# 5) What ICD10 code did we provide you in DIAG_01? What does this mean?\n",
    "diag_01_counts = hes['diag_01'].value_counts(dropna=False)\n",
    "diag_01_counts"
   ]
  },
  {
   "cell_type": "code",
   "execution_count": null,
   "id": "3ffc14bf-4514-4112-89ed-55b52c297a09",
   "metadata": {},
   "outputs": [],
   "source": [
    "# 6) How many unique individuals are there in the dataset?\n",
    "unique_individuals = hes['tokenid'].nunique()\n",
    "unique_individuals"
   ]
  },
  {
   "cell_type": "code",
   "execution_count": null,
   "id": "ab15043c-ab16-4e08-adc4-bb14b5615e4b",
   "metadata": {},
   "outputs": [],
   "source": [
    "# 7) Identify which variable represents the region of residence.\n",
    "hes.head(5)"
   ]
  },
  {
   "cell_type": "code",
   "execution_count": null,
   "id": "52f32695-43eb-4a7b-b385-8a6ea18d3308",
   "metadata": {},
   "outputs": [],
   "source": [
    "# 8) Calculate how many individuals' region of residence at birth is Scotland or Wales.\n",
    "resgor_counts = hes['resgor'].value_counts(dropna=False)\n",
    "scotland_wales_residence = hes[hes['resgor'].isin(['S', 'W'])]['resgor'].count()\n",
    "scotland_wales_residence"
   ]
  },
  {
   "cell_type": "code",
   "execution_count": null,
   "id": "7192e19f-b21a-40b8-8bec-43c6455b718d",
   "metadata": {
    "scrolled": true
   },
   "outputs": [],
   "source": [
    "# 9) How many individuals are left once you only keep those who resided in English regions at birth?\n",
    "english_residence_count = hes[~hes['resgor'].isin(['S', 'W'])]['resgor'].count\n",
    "english_residence_count"
   ]
  },
  {
   "cell_type": "code",
   "execution_count": null,
   "id": "8ea4446b-a613-40aa-98f9-9d59e32c02ad",
   "metadata": {},
   "outputs": [],
   "source": [
    "hes = hes[~hes['resgor'].isin(['S','W'])]"
   ]
  },
  {
   "cell_type": "code",
   "execution_count": null,
   "id": "d264c9fe-252a-4ce4-b335-ab8dc88d434d",
   "metadata": {},
   "outputs": [],
   "source": [
    "### Part 2 ###\n",
    "# 1) What ICD10 codes have we included in DIAG_02?"
   ]
  },
  {
   "cell_type": "code",
   "execution_count": null,
   "id": "ab34a08e-88b5-4725-ad27-f8dfd6a8d5b1",
   "metadata": {},
   "outputs": [],
   "source": [
    "diag_02_counts = hes['diag_02'].value_counts(dropna=False)\n",
    "diag_02_counts"
   ]
  },
  {
   "cell_type": "code",
   "execution_count": null,
   "id": "6685f2c5-1f15-47c3-b6be-436702d6404c",
   "metadata": {},
   "outputs": [],
   "source": [
    "# 2) Using the ICD-10 browser, what do these codes represent?"
   ]
  },
  {
   "cell_type": "code",
   "execution_count": null,
   "id": "0097f2c8-b921-49ce-8466-56efea282ff8",
   "metadata": {},
   "outputs": [],
   "source": [
    "# 3) How many patients have a major congenital anomaly code? Once you know, you can drop these patients\n",
    "mca = [\"Q24\", \"Q35\", \"Q37\", \"Q43\"]\n",
    "mca_count = hes[hes['diag_02'].isin(mca)].shape[0]\n",
    "mca_proportion = mca_count / hes.shape[0]\n",
    "mca_proportion"
   ]
  },
  {
   "cell_type": "code",
   "execution_count": null,
   "id": "1fbec56e-67c6-49d2-9883-df455e0c3d27",
   "metadata": {},
   "outputs": [],
   "source": [
    "# Now we can drop them\n",
    "hes = hes[~hes['diag_02'].isin(mca)]"
   ]
  },
  {
   "cell_type": "code",
   "execution_count": null,
   "id": "052ed8a1-fde4-4c51-9a4b-b47ab2f720a2",
   "metadata": {},
   "outputs": [],
   "source": [
    "# 4) How many patients have a linked record in the spine?\n",
    "# Merging hes with spine\n",
    "hes = pd.merge(hes, spine, on=\"tokenid\", how=\"left\")\n",
    "no_link_count = hes['PupilMatchingRefAnonymous'].isna().sum()\n",
    "link_count = len(hes) - no_link_count\n",
    "link_count"
   ]
  },
  {
   "cell_type": "code",
   "execution_count": null,
   "id": "e460e6ef-c353-4a58-8a7e-8dd5c5960376",
   "metadata": {},
   "outputs": [],
   "source": [
    "# Part 3\n",
    "# 1) Are there differences in linkage rates between HES and NPD based on sex, deprivation and ethnicity?\n",
    "# Once you have answered this question, you can drop the students without a link.\n"
   ]
  },
  {
   "cell_type": "code",
   "execution_count": null,
   "id": "6249d792-d255-4146-aafa-f5b385646e93",
   "metadata": {},
   "outputs": [],
   "source": [
    "# Let's first explore our sex, deprivation and ethnicity variables.\n",
    "sex_counts = hes['sex'].value_counts(dropna=False)\n",
    "ethnos_counts = hes['ethnos'].value_counts(dropna=False)\n",
    "imd04_decile_counts = hes['imd04_decile'].value_counts(dropna=False)\n"
   ]
  },
  {
   "cell_type": "code",
   "execution_count": null,
   "id": "08bd8ccc-ecee-4685-a4f9-8ac1ef592f93",
   "metadata": {},
   "outputs": [],
   "source": [
    "# Now examine non-linkage rates by each variable.\n",
    "non_linkage_rates_sex = hes.groupby('sex')['PupilMatchingRefAnonymous'].apply(lambda x: f\"{x.isna().sum()} ({round((x.isna().sum() / len(x)) * 100, 1)}%)\")\n",
    "non_linkage_rates_ethnos = hes.groupby('ethnos')['PupilMatchingRefAnonymous'].apply(lambda x: f\"{x.isna().sum()} ({round((x.isna().sum() / len(x)) * 100, 1)}%)\")\n",
    "non_linkage_rates_imd04_decile = hes.groupby('imd04_decile')['PupilMatchingRefAnonymous'].apply(lambda x: f\"{x.isna().sum()} ({round((x.isna().sum() / len(x)) * 100, 1)}%)\")\n"
   ]
  },
  {
   "cell_type": "code",
   "execution_count": null,
   "id": "41fef32f-6e33-4922-9490-95d339d271cb",
   "metadata": {},
   "outputs": [],
   "source": [
    "# Now we have analyzed linkage rates, We can drop those who did not link and focus on our research question.\n",
    "hes = hes.dropna(subset=['PupilMatchingRefAnonymous'])"
   ]
  },
  {
   "cell_type": "code",
   "execution_count": null,
   "id": "16fc6b85-7e44-4e18-a265-743c0d29f46e",
   "metadata": {
    "scrolled": true
   },
   "outputs": [],
   "source": [
    "# 2) What is the relationship between gestational age and KS1 results (unadjusted and adjusted for sex, deprivation and ethnicity)?\n",
    "# Merging KS1 data with HES\n",
    "hes_ks1_merge = pd.merge(hes, ks1[['PupilMatchingRefAnonymous', 'KS1_MATH']], on=\"PupilMatchingRefAnonymous\", how=\"left\")\n",
    "len(hes_ks1_merge)"
   ]
  },
  {
   "cell_type": "code",
   "execution_count": null,
   "id": "5f354595-cbdc-4bc3-93cf-02160c34cbc9",
   "metadata": {},
   "outputs": [],
   "source": [
    "# Plotting Histogram: KS1 Math\n",
    "import matplotlib.pyplot as plt\n",
    "plt.hist(hes_ks1_merge['KS1_MATH'], bins = 20, color = 'skyblue', edgecolor = 'black')\n",
    "plt.xlabel('KS1 Math Scores')\n",
    "plt.ylabel('Frequency')\n",
    "plt.title('Histogram of HES linked with KS1 Math Scores')\n",
    "plt.show()"
   ]
  },
  {
   "cell_type": "code",
   "execution_count": null,
   "id": "e086b8f3-508d-49b6-8243-0eec8d4f3eaa",
   "metadata": {},
   "outputs": [],
   "source": [
    "hes_ks1_merge['KS1_MATH'].describe()"
   ]
  },
  {
   "cell_type": "code",
   "execution_count": null,
   "id": "d60f7ceb-62bb-4754-ab3a-6125d7696a63",
   "metadata": {},
   "outputs": [],
   "source": [
    "hes_ks1_merge['gestat'].value_counts()"
   ]
  },
  {
   "cell_type": "code",
   "execution_count": null,
   "id": "5ca8944d-9413-49a6-afd0-cdf8482d0c21",
   "metadata": {},
   "outputs": [],
   "source": [
    "hes_ks1_merge['gestat_group'] = hes_ks1_merge['gestat'].astype('category')\n",
    "\n",
    "# Reorder the categories with the reference level first\n",
    "reference_level = '40'\n",
    "hes_ks1_merge['gestat_group'] = hes_ks1_merge['gestat_group'].cat.reorder_categories([reference_level] + list(hes_ks1_merge['gestat_group'].cat.categories.difference([reference_level])))\n"
   ]
  },
  {
   "cell_type": "code",
   "execution_count": null,
   "id": "53de3cca-d0b6-4a62-8021-02c00e9f678b",
   "metadata": {},
   "outputs": [],
   "source": [
    "# Univariable analysis\n",
    "univariable_analysis = hes_ks1_merge.groupby('gestat')['KS1_MATH'].agg(['mean', 'std'])\n",
    "univariable_analysis"
   ]
  },
  {
   "cell_type": "code",
   "execution_count": null,
   "id": "8c358908-4a19-473a-8888-b4918ec2adf3",
   "metadata": {},
   "outputs": [],
   "source": [
    "hes_ks1_merge.dtypes\n"
   ]
  },
  {
   "cell_type": "code",
   "execution_count": null,
   "id": "5a7ed684-bc24-411f-8a0e-04383665363e",
   "metadata": {
    "scrolled": true
   },
   "outputs": [],
   "source": [
    "import statsmodels.api as sm\n",
    "import numpy as np\n",
    "\n",
    "m1 = sm.OLS(hes_ks1_merge['KS1_MATH'], sm.add_constant(hes_ks1_merge['gestat'])).fit()\n",
    "print(m1.summary())"
   ]
  },
  {
   "cell_type": "code",
   "execution_count": null,
   "id": "a28a9007-d6eb-44b0-98af-e7d336895f4a",
   "metadata": {},
   "outputs": [],
   "source": [
    "# m2: KS1_MATH ~ gestat + sex + imd04_decile + ethnos\n",
    "m2 = sm.OLS(hes_ks1_merge['KS1_MATH'], sm.add_constant(hes_ks1_merge[['gestat_group', 'sex', 'imd04_decile', 'ethnos']])).fit()\n",
    "print(m2.summary())"
   ]
  }
 ],
 "metadata": {
  "kernelspec": {
   "display_name": "Python 3 (ipykernel)",
   "language": "python",
   "name": "python3"
  },
  "language_info": {
   "codemirror_mode": {
    "name": "ipython",
    "version": 3
   },
   "file_extension": ".py",
   "mimetype": "text/x-python",
   "name": "python",
   "nbconvert_exporter": "python",
   "pygments_lexer": "ipython3",
   "version": "3.10.5"
  }
 },
 "nbformat": 4,
 "nbformat_minor": 5
}
